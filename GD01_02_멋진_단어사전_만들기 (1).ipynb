{
 "cells": [
  {
   "cell_type": "markdown",
   "metadata": {
    "id": "mLR2Ssvs2Zmt"
   },
   "source": [
    "# 데이터 다운로드 및 분석"
   ]
  },
  {
   "cell_type": "code",
   "execution_count": 1,
   "metadata": {
    "id": "JOZwrcHMhnm5"
   },
   "outputs": [],
   "source": [
    "#프로젝트에 사용될 라이브러리 import\n",
    "\n",
    "import os\n",
    "\n",
    "import matplotlib.pyplot as plt\n",
    "import tensorflow as tf\n",
    "import numpy as np\n",
    "\n",
    "%matplotlib inline"
   ]
  },
  {
   "cell_type": "markdown",
   "metadata": {
    "id": "CF3Y4f8Rh7Qm"
   },
   "source": [
    " 학습환경을 구성하고 데이터를 다운받아보자.\n",
    "\n",
    "wget https://github.com/jungyeul/korean-parallel-corpora/raw/master/korean-english-news-v1/korean-english-park.train.tar.gz\n",
    "\n",
    "mkdir -p ~/aiffel/sp_tokenizer/data\n",
    "\n",
    "mv korean-english-park.train.tar.gz ~/aiffel/sp_tokenizer/data\n",
    "\n",
    "cd ~/aiffel/sp_tokenizer/data\n",
    "\n",
    "tar -xzvf korean-english-park.train.tar.gz\n"
   ]
  },
  {
   "cell_type": "code",
   "execution_count": 2,
   "metadata": {
    "id": "dvd0IT3oiJqX"
   },
   "outputs": [
    {
     "name": "stdout",
     "output_type": "stream",
     "text": [
      "Data Size: 94123\n",
      "Example:\n",
      ">> 개인용 컴퓨터 사용의 상당 부분은 \"이것보다 뛰어날 수 있느냐?\"\n",
      ">> 북한의 핵무기 계획을 포기하도록 하려는 압력이 거세지고 있는 가운데, 일본과 북한의 외교관들이 외교 관계를 정상화하려는 회담을 재개했다.\n",
      ">> \"경호 로보트가 침입자나 화재를 탐지하기 위해서 개인적으로, 그리고 전문적으로 사용되고 있습니다.\"\n",
      ">> 수자원부 당국은 논란이 되고 있고, 막대한 비용이 드는 이 사업에 대해 내년에 건설을 시작할 계획이다.\n",
      ">> 또한 근력 운동은 활발하게 걷는 것이나 최소한 20분 동안 뛰는 것과 같은 유산소 활동에서 얻는 운동 효과를 심장과 폐에 주지 않기 때문에, 연구학자들은 근력 운동이 심장에 큰 영향을 미치는지 여부에 대해 논쟁을 해왔다.\n"
     ]
    }
   ],
   "source": [
    "#디렉토리 불러와서 변수(raw)로 지정.\n",
    "path_to_file = os.getenv('HOME')+'/aiffel/sp_tokenizer/data/korean-english-park.train.ko'\n",
    "  # 사용자의 홈 디렉토리 경로를 가져온 후, 해당 경로에 '\\aiffel~'을 추가하여 파일 경로를 만듦.\n",
    "with open(path_to_file, \"r\") as f:  #'path_to_file' 경로로 파일을 열고, 이 파일을 'f'라는 변수로 열게 됨.\n",
    "    raw = f.read().splitlines()  #파일 내용을 읽어온 후, 'read()'함수로 파일 내용 전체를 문자열로 읽어옴.\n",
    "                                 #'splitlines()'함수를 사용하여 문자열을 줄 단위로 분리하여 리스트로 저장.\n",
    "                                 #이렇게 하면 파일의 각 줄이 리스트이 원소로 들어감.\n",
    "\n",
    "print(\"Data Size:\", len(raw))  #읽어온 데이터의 크기를 출력. len(raw)는 'raw'리스트의 길이를 나타냄.\n",
    "\n",
    "print(\"Example:\")\n",
    "for sen in raw[0:100][::20]: print(\">>\", sen)  #'raw'리스트에서 처음 100개의 원소를 선택한 후, 20의 간격으로 원소를 순회.\n",
    "                                               #0번째 문장, 20번째 문장, 40번째 문장, 60번째 문장, 80번째 문장이 선택된 원소들.\n",
    "                                               #선택된 원소 'sen'을 출력. '>>'와 함께 선택된 원소의 내용이 출력됨."
   ]
  },
  {
   "cell_type": "markdown",
   "metadata": {
    "id": "Ulf5FGJx1BhV"
   },
   "source": [
    "data size: 94123\n",
    "\n",
    "0, 20, 40, 60, 80번째 문장이 Example로 출력됐다."
   ]
  },
  {
   "cell_type": "code",
   "execution_count": 3,
   "metadata": {
    "id": "ICXeXv_ZiaGX"
   },
   "outputs": [
    {
     "name": "stdout",
     "output_type": "stream",
     "text": [
      "문장의 최단 길이: 1\n",
      "문장의 최장 길이: 377\n",
      "문장의 평균 길이: 60\n"
     ]
    },
    {
     "data": {
      "image/png": "[encoded data removed]",
      "text/plain": [
       "<Figure size 432x288 with 1 Axes>"
      ]
     },
     "metadata": {
      "needs_background": "light"
     },
     "output_type": "display_data"
    }
   ],
   "source": [
    "#문장 길이 확인.\n",
    "min_len = 999\n",
    "max_len = 0\n",
    "sum_len = 0\n",
    "\n",
    "for sen in raw:  #'raw'리스트에 있는 각 문장('sen')에 대해 반복문을 실행\n",
    "    length = len(sen)  #현재 문장'sen'의 길이를 구해서 'length'변수에 할당\n",
    "    if min_len > length: min_len = length  #현재 문장의 길이가 ' min_len'변수에 저장된 최소 길이보다 작다면, 'min_len'변수에 현재 길이를 저장.\n",
    "    if max_len < length: max_len = length\n",
    "    sum_len += length  #현재 문장의 길이를 'sum_len'변수에 더함. 'sum_len'변수는 전체 길이의 합을 나타내며, 문장 길이의 총합을 계산\n",
    "    #'raw'리스트에 잇는 모든 문장을 반복하면서 각 문장의 길이를 계산하고, 최소 길이와 최대 길이를 업데이트하며 전체 길이의 합을 계산.\n",
    "\n",
    "\n",
    "print(\"문장의 최단 길이:\", min_len)\n",
    "print(\"문장의 최장 길이:\", max_len)\n",
    "print(\"문장의 평균 길이:\", sum_len // len(raw))\n",
    "\n",
    "sentence_length = np.zeros((max_len), dtype=int)  #길이가 'max_len'이고 0으로 초기화된 Numpy 배열\n",
    "                                                  #sentence_length 배열의 dtype = 정수\n",
    "\n",
    "for sen in raw:  #'raw'리스트에 있는 각 문장('sen')에 대해 반복문을 실행\n",
    "    sentence_length[len(sen)-1] += 1  #'len(sen)-1': 현재 문장의 길이에서 1을 뺀 값 = 문장 길이를 배열 인덱스에 맞게 변환\n",
    "                                      #길이가 1인 문장은 배열의 첫 번째 요소에 저장. 길이가 2인 문장은 두 번째 요소에 저장.\n",
    "                                      #계산된 인덱스 위치에 해당하는 'sentence_length'배열의 값을 1 증가. 이를 통해 해당 길이의 문장이 등장한 빈도를 저장.\n",
    "\n",
    "plt.bar(range(max_len), sentence_length, width=1.0)\n",
    "plt.title(\"Sentence Length Distribution\")\n",
    "plt.show()"
   ]
  },
  {
   "cell_type": "markdown",
   "metadata": {
    "id": "hZ2glI7IwBBU"
   },
   "source": [
    "문장의 최단 길이:1\n",
    "\n",
    "문장의 최장 길이:377\n",
    "\n",
    "문장의 평균 길이:60"
   ]
  },
  {
   "cell_type": "code",
   "execution_count": 4,
   "metadata": {
    "id": "v1kAQ4BjwHDd"
   },
   "outputs": [
    {
     "name": "stdout",
     "output_type": "stream",
     "text": [
      "’\n"
     ]
    }
   ],
   "source": [
    "#길이가 1인 문장은 무엇인가?\n",
    "def check_sentence_with_length(raw, length):\n",
    "    count = 0  #변수'count'를 초기화\n",
    "\n",
    "    for sen in raw:\n",
    "        if len(sen) == length:  #현재 문장'sen'의 길이가 지정한 길이'length'와 일치하는지 검사\n",
    "            print(sen)\n",
    "            count += 1  #길이가 일치하는 문장을 찾았으면 'count'변수를 1 증가시킴.\n",
    "            if count > 100: return  #변수'count'가 100을 초과하면 함수를 종료.\n",
    "                                    #이는 문장이 너무 많아서 출력을 100개로 제한하고자 할 때 사용.\n",
    "\n",
    "check_sentence_with_length(raw, 1)  #길이가 1인 문장을 찾아서 출력."
   ]
  },
  {
   "cell_type": "markdown",
   "metadata": {
    "id": "4Ud_iypGw8Fy"
   },
   "source": [
    ">>>> '\n",
    "\n",
    "길이가 1인 문장은 노이즈 데이터였다!\n",
    "\n"
   ]
  },
  {
   "cell_type": "code",
   "execution_count": 5,
   "metadata": {
    "id": "ohaObGocxDQb"
   },
   "outputs": [
    {
     "name": "stdout",
     "output_type": "stream",
     "text": [
      "Outlier Index: 11\n",
      "Outlier Index: 19\n",
      "Outlier Index: 21\n"
     ]
    }
   ],
   "source": [
    "#문장의 수가 1500을 초과하는 문장의 길이를 추출\n",
    "for idx, _sum in enumerate(sentence_length):  #배열의 각 요소와 해당 요소의 인덱스를 반복하면서 'idx'와 'sum' 변수가 값을 할당.\n",
    "                                              #'enumerate()'함수를 사용하여 인덱스와 요소를 한 번에 가져옴.\n",
    "                                              #'idx'변수는 현재 문장의 길이를 의미.\n",
    "    if _sum > 1500:\n",
    "        print(\"Outlier Index:\", idx+1)"
   ]
  },
  {
   "cell_type": "markdown",
   "metadata": {
    "id": "hLHY_zg_yc8E"
   },
   "source": [
    "문장의 수가 1500을 초과하는 문장 길이는 각각  11, 19, 21이다."
   ]
  },
  {
   "cell_type": "code",
   "execution_count": 6,
   "metadata": {
    "id": "N7DUPClKycd_"
   },
   "outputs": [
    {
     "name": "stdout",
     "output_type": "stream",
     "text": [
      "라고 조던이 말했다.\n",
      "- 모르고 있습니다.\n",
      "- 네, 보이는군요.\n",
      "디즈니사만이 아니다.\n",
      "큰 파티는 아니지요.\n",
      "의자는 비어 있었다.\n",
      "이 일은 계속됩니다.\n",
      "나는 크게 실망했다.\n",
      "그 이유는 간단하다.\n",
      "이력서와 자기 소개서\n",
      "시대가 변하고 있다.\n",
      "는 돌발질문을 했다.\n",
      "9. 몇 분간의 명상\n",
      "하와이, 빅 아일랜드\n",
      "키스를 잘 하는 방법\n",
      "키스를 잘 하는 방법\n",
      "스피어스가 뚱뚱한가?\n",
      "산 위를 나는 느낌.\n",
      "세 시간쯤 걸었을까?\n",
      "(아직 읽고있습니까?\n",
      "처음에는 장난이었다.\n",
      "우리는 운이 좋았다.\n",
      "아기가 숨을 멈출 때\n",
      "건물 전체 무너져내려\n",
      "그녀의 아름다운 눈.\n",
      "대답은 다음과 같다.\n",
      "\"사과할 것이 없다.\n",
      "폭탄테러가 공포 유발\n",
      "그는 \"잘 모르겠다.\n",
      "그는 \"잘 모르겠다.\n",
      "그는 \"잘 모르겠다.\n",
      "그는 \"잘 모르겠다.\n",
      "그는 \"잘 모르겠다.\n",
      "그는 \"잘 모르겠다.\n",
      "그는 \"잘 모르겠다.\n",
      "그는 \"잘 모르겠다.\n",
      "그는 \"잘 모르겠다.\n",
      "케냐 야생동물 고아원\n",
      "경유 1200원대로…\n",
      "더 내려야 하는 이유\n",
      "케냐 야생동물 고아원\n",
      "경유 1200원대로…\n",
      "더 내려야 하는 이유\n",
      "케냐 야생동물 고아원\n",
      "경유 1200원대로…\n",
      "더 내려야 하는 이유\n",
      "케냐 야생동물 고아원\n",
      "경유 1200원대로…\n",
      "더 내려야 하는 이유\n",
      "케냐 야생동물 고아원\n",
      "경유 1200원대로…\n",
      "더 내려야 하는 이유\n",
      "케냐 야생동물 고아원\n",
      "경유 1200원대로…\n",
      "더 내려야 하는 이유\n",
      "케냐 야생동물 고아원\n",
      "경유 1200원대로…\n",
      "더 내려야 하는 이유\n",
      "케냐 야생동물 고아원\n",
      "경유 1200원대로…\n",
      "더 내려야 하는 이유\n",
      "케냐 야생동물 고아원\n",
      "경유 1200원대로…\n",
      "더 내려야 하는 이유\n",
      "케냐 야생동물 고아원\n",
      "경유 1200원대로…\n",
      "더 내려야 하는 이유\n",
      "케냐 야생동물 고아원\n",
      "경유 1200원대로…\n",
      "더 내려야 하는 이유\n",
      "케냐 야생동물 고아원\n",
      "경유 1200원대로…\n",
      "더 내려야 하는 이유\n",
      "케냐 야생동물 고아원\n",
      "경유 1200원대로…\n",
      "더 내려야 하는 이유\n",
      "케냐 야생동물 고아원\n",
      "경유 1200원대로…\n",
      "더 내려야 하는 이유\n",
      "케냐 야생동물 고아원\n",
      "경유 1200원대로…\n",
      "더 내려야 하는 이유\n",
      "케냐 야생동물 고아원\n",
      "경유 1200원대로…\n",
      "더 내려야 하는 이유\n",
      "케냐 야생동물 고아원\n",
      "경유 1200원대로…\n",
      "더 내려야 하는 이유\n",
      "케냐 야생동물 고아원\n",
      "경유 1200원대로…\n",
      "더 내려야 하는 이유\n",
      "케냐 야생동물 고아원\n",
      "경유 1200원대로…\n",
      "더 내려야 하는 이유\n",
      "케냐 야생동물 고아원\n",
      "경유 1200원대로…\n",
      "더 내려야 하는 이유\n",
      "조금은 새침한 샬롯？\n",
      "조금은 새침한 샬롯？\n",
      "케냐 야생동물 고아원\n",
      "경유 1200원대로…\n"
     ]
    }
   ],
   "source": [
    "#길이가 11인 문장들은 어떤 것들이 있을까?\n",
    "check_sentence_with_length(raw, 11)"
   ]
  },
  {
   "cell_type": "markdown",
   "metadata": {
    "id": "QwXu_Eg2ytFz"
   },
   "source": [
    "중복에 대한 처리도 제대로 되지 않아보인다.\n",
    "\n",
    "중복 제거 -> Python의 기본 자료형인 'set'을 활용\n",
    "\n",
    "    'set': 집합을 정의하는 자료형.\n",
    "    중복을 허용하지 않아 변환 과정에서 자동으로 중복된 요소를 제거\n",
    "    다만, list의 순서가 뒤죽박죽될 수 있으니, 쌍을 이루는 데이터는 주의!\n",
    "    "
   ]
  },
  {
   "cell_type": "code",
   "execution_count": 7,
   "metadata": {
    "id": "eW3pWt6vyskY"
   },
   "outputs": [
    {
     "name": "stdout",
     "output_type": "stream",
     "text": [
      "Data Size: 77591\n",
      "문장의 최단 길이: 1\n",
      "문장의 최장 길이: 377\n",
      "문장의 평균 길이: 64\n"
     ]
    },
    {
     "data": {
      "image/png": "[encoded data removed]",
      "text/plain": [
       "<Figure size 432x288 with 1 Axes>"
      ]
     },
     "metadata": {
      "needs_background": "light"
     },
     "output_type": "display_data"
    }
   ],
   "source": [
    "#중복 제거후 다시 길이 분포를 확인.\n",
    "\n",
    "min_len = 999\n",
    "max_len = 0\n",
    "sum_len = 0\n",
    "\n",
    "cleaned_corpus = list(set(raw))  #'raw'리스트를 'set'으로 변환하여 중복을 제거하고 다시 'list()'로 감싸서 리스트로 변환.\n",
    "print(\"Data Size:\", len(cleaned_corpus))\n",
    "\n",
    "for sen in cleaned_corpus:\n",
    "    length = len(sen)\n",
    "    if min_len > length: min_len = length\n",
    "    if max_len < length: max_len = length\n",
    "    sum_len += length\n",
    "\n",
    "print(\"문장의 최단 길이:\", min_len)\n",
    "print(\"문장의 최장 길이:\", max_len)\n",
    "print(\"문장의 평균 길이:\", sum_len // len(cleaned_corpus))\n",
    "\n",
    "sentence_length = np.zeros((max_len), dtype=int)\n",
    "\n",
    "for sen in cleaned_corpus:   # 중복이 제거된 코퍼스 기준\n",
    "    sentence_length[len(sen)-1] += 1  #문장의 길이를 배열 인덱스에 맞게 변환하는 역할\n",
    "\n",
    "plt.bar(range(max_len), sentence_length, width=1.0)\n",
    "plt.title(\"Sentence Length Distribution\")\n",
    "plt.show()"
   ]
  },
  {
   "cell_type": "markdown",
   "metadata": {
    "id": "NDpYsPG_zw4o"
   },
   "source": [
    "data size:77591\n",
    "\n",
    "문장의 최단 길이:1\n",
    "\n",
    "문장의 최장 길이:377\n",
    "\n",
    "문장의 평균 길이:64"
   ]
  },
  {
   "cell_type": "markdown",
   "metadata": {
    "id": "oe63Ik1s1Mpo"
   },
   "source": [
    "'모든 데이터를 다 사용할 것이냐?'에 대한 선택.\n",
    "\n",
    "미니 배치를 만들 것을 생각하면 모든 데이터를 다 사용하는 것은 연산 측면에서 비효율적.\n",
    "\n",
    "    미니 배치 특성상, 각 데이터의 크기가 모두 동일해야하기 때문에 가장 긴 데이터를 기준으로 padding 처리를 해야함.\n",
    "\n",
    "여기서는 길이 150 이상의 데이터를 제거하고 사용.\n",
    "\n",
    "또한 너무 짧은 데이터는 오히려 노이즈로 작용할 수 있으니, 길이가 10 미만이 데이터도 제거.\n",
    "\n"
   ]
  },
  {
   "cell_type": "code",
   "execution_count": 8,
   "metadata": {
    "id": "rhT3NBtY15XF"
   },
   "outputs": [
    {
     "data": {
      "image/png": "[encoded data removed]",
      "text/plain": [
       "<Figure size 432x288 with 1 Axes>"
      ]
     },
     "metadata": {
      "needs_background": "light"
     },
     "output_type": "display_data"
    }
   ],
   "source": [
    "max_len = 150\n",
    "min_len = 10\n",
    "\n",
    "# 길이 조건에 맞는 문장만 선택하여 'filtered_corpus'리스트에 저장.\n",
    "filtered_corpus = [s for s in cleaned_corpus if (len(s) < max_len) & (len(s) >= min_len)]\n",
    "\n",
    "# 분포도를 다시 그려봄.\n",
    "sentence_length = np.zeros((max_len), dtype=int)\n",
    "\n",
    "for sen in filtered_corpus:\n",
    "    sentence_length[len(sen)-1] += 1\n",
    "\n",
    "plt.bar(range(max_len), sentence_length, width=1.0)\n",
    "plt.title(\"Sentence Length Distribution\")\n",
    "plt.show()"
   ]
  },
  {
   "cell_type": "markdown",
   "metadata": {
    "id": "TwZx30sz2fF-"
   },
   "source": [
    "# 공백 기반 토큰화"
   ]
  },
  {
   "cell_type": "code",
   "execution_count": 9,
   "metadata": {
    "id": "YUyJ9ziM2iVQ"
   },
   "outputs": [],
   "source": [
    "#입력된 문장들을 토큰화하고 숫자로 변환하여 텐서로 변환하는 함수를 정의하는 작업.\n",
    "def tokenize(corpus):  # corpus: Tokenized Sentence's List\n",
    "                       #'tokenize'함수: 토큰화된 문장들을 입력으로 받아서 처리하고, 토큰화된 텐서와 토크나이저를 반환\n",
    "    tokenizer = tf.keras.preprocessing.text.Tokenizer(filters='')\n",
    "     #입력 텍스트를 토큰화하고, 토큰들을 숫자로 매핑하는 역할.\n",
    "     #'filters='''는 특정 문자들을 필터링하지 않겠다는 의미 = 모든 문자를 토큰화\n",
    "    tokenizer.fit_on_texts(corpus)\n",
    "     #corpus에 있는 문장들을 기반으로 단어 사전을 생성. 이렇게 생성된 단어 사전은 각 단어를 고유한 정수로 매핑하는 역할\n",
    "    tensor = tokenizer.texts_to_sequences(corpus)\n",
    "     #문장들을 숫자 시퀀스로 변환. 각 단어가 생성된 단어사전에서 매핑된 정수로 대체됨.\n",
    "    tensor = tf.keras.preprocessing.sequence.pad_sequences(tensor, padding='post')\n",
    "     #변환된 숫자 시퀀스를 패딩하여 모든 문장의 길이를 동일하게 함.\n",
    "     #'padding='post''는 패딩을 시퀀스의 뒷부분에 적용하라는 의미.\n",
    "\n",
    "    return tensor, tokenizer"
   ]
  },
  {
   "cell_type": "code",
   "execution_count": 10,
   "metadata": {
    "id": "RcVCom4g44s5"
   },
   "outputs": [],
   "source": [
    "#공백 기반 토큰화하여 저장.\n",
    "split_corpus = []  #'split_corpus'는 이후에 반환된 단어들의 리스트를 저장할 목적으로 사용될 빈 리스트.\n",
    "\n",
    "for kor in filtered_corpus:  #'filtered_corpus'리스트에 있는 각 문장('kor')에 대해 반복문을 실행\n",
    "    split_corpus.append(kor.split())  #현재 문장'kor'를 공백을 기준으로 분할하고 단어들의 리스트로 변환하고, 그 결과를 'split_corpus'리스트에 추가"
   ]
  },
  {
   "cell_type": "code",
   "execution_count": 11,
   "metadata": {
    "id": "ZgBbSa2556Of"
   },
   "outputs": [
    {
     "name": "stdout",
     "output_type": "stream",
     "text": [
      "Split Vocab Size: 237435\n"
     ]
    }
   ],
   "source": [
    "#'split_corpus'를 공백 기반 토큰화하여 숫자 시퀀스로 변환하고, 그 결과로 생성된 토크나이저의 단어 사전 크기를 출력.\n",
    "\n",
    "split_tensor, split_tokenizer = tokenize(split_corpus)\n",
    "  #'tokenize'함수를 사용해 'split_corpus'에 있는 문장들을 토큰화하여 텐서'split_tensor'와 토크나이저'split_tokenizer'를 얻음.\n",
    "  #'tokenize'함수에 패딩까지 포함되어 있음.\n",
    "print(\"Split Vocab Size:\", len(split_tokenizer.index_word))\n",
    "  #생성된 'split_tokenizer'의 단어 사전의 크기를 출력.\n",
    "  #'index_word'속성: 정수로 매핑된 단어들의 딕셔너리."
   ]
  },
  {
   "cell_type": "markdown",
   "metadata": {
    "id": "9QKAIZYo8XIJ"
   },
   "source": [
    "공백 기반 토크나이저의 단어 사전 크기: 237435\n",
    "\n",
    "해당 토크나이저가 처리한 데이터의 고유한 단어의 개수가 237435개라는 의미이다."
   ]
  },
  {
   "cell_type": "code",
   "execution_count": 12,
   "metadata": {
    "id": "WggRfGKK8oHW"
   },
   "outputs": [
    {
     "name": "stdout",
     "output_type": "stream",
     "text": [
      "0 : 이\n",
      "1 : 밝혔다.\n",
      "2 : 있다.\n",
      "3 : 말했다.\n",
      "4 : 수\n",
      "5 : 있는\n",
      "6 : 그는\n",
      "7 : 대한\n",
      "8 : 위해\n",
      "9 : 전했다.\n",
      "10 : 지난\n",
      "11 : 이번\n"
     ]
    }
   ],
   "source": [
    "#'split_tokenizer' 단어 사전의 각 단어와 그에 해당하는 인덱스를 출력.\n",
    "for idx, word in enumerate(split_tokenizer.word_index):  #for 반복문을 통해 단어 사전을 열거\n",
    "   #'enumerate'함수를 사용하여 각 단어와 해당하는 인덱스를 반복문 변수 'idx'와 'word'로 받아옴\n",
    "\n",
    "    print(idx, \":\", word)\n",
    "\n",
    "    if idx > 10: break #인덱스 0부터 11까지 출력한 후 반복문을 종료."
   ]
  },
  {
   "cell_type": "markdown",
   "metadata": {
    "id": "rUYvwN2T9vLt"
   },
   "source": [
    "유사한 의미를 지닌 '밝혔다.'와 '밝히다', '밝다'는 전혀 다른 단어로 분류되고 있음.\n",
    "\n",
    "즉, 공백 기반 토큰화는 불필요하게 큰 단어 사전을 가지게 되어 연산량을 증가시킴."
   ]
  },
  {
   "cell_type": "markdown",
   "metadata": {
    "id": "goLV3_Y5-B4U"
   },
   "source": [
    "#형태소 기반 토큰화"
   ]
  },
  {
   "cell_type": "code",
   "execution_count": 14,
   "metadata": {},
   "outputs": [
    {
     "name": "stdout",
     "output_type": "stream",
     "text": [
      "Collecting python-mecab-ko\n",
      "  Downloading python_mecab_ko-1.3.3-cp39-cp39-manylinux_2_17_x86_64.manylinux2014_x86_64.whl (575 kB)\n",
      "     |████████████████████████████████| 575 kB 6.5 MB/s            \n",
      "\u001b[?25hCollecting python-mecab-ko-dic\n",
      "  Downloading python_mecab_ko_dic-2.1.1.post2-py3-none-any.whl (34.5 MB)\n",
      "     |████████████████████████████████| 34.5 MB 60.7 MB/s            \n",
      "\u001b[?25hInstalling collected packages: python-mecab-ko-dic, python-mecab-ko\n",
      "Successfully installed python-mecab-ko-1.3.3 python-mecab-ko-dic-2.1.1.post2\n",
      "\u001b[33mWARNING: Running pip as the 'root' user can result in broken permissions and conflicting behaviour with the system package manager. It is recommended to use a virtual environment instead: https://pip.pypa.io/warnings/venv\u001b[0m\n"
     ]
    }
   ],
   "source": [
    "!pip install python-mecab-ko\n",
    "from mecab import MeCab\n",
    "mecab = MeCab()"
   ]
  },
  {
   "cell_type": "code",
   "execution_count": 15,
   "metadata": {
    "id": "aY-65XSe-FxR"
   },
   "outputs": [],
   "source": [
    "#'mecab'라이브러리를 사용하여 한국어 문장을 형태소로 분리하고, 그 결과를 'mecab_corpus'리스트에 저장.\n",
    "\n",
    "def mecab_split(sentence):\n",
    "    return mecab.morphs(sentence)  #'mecab_morphs()'함수: 한국어 문장을 형태소 단위로 분리하는 기능\n",
    "\n",
    "mecab_corpus = []  #분리된 형태소들을 저장할 목적의 빈 리스트\n",
    "\n",
    "for kor in filtered_corpus:  #'filtered_corpus'리스트에 있는 각 문장('kor')에 대해 반복문을 실행\n",
    "    mecab_corpus.append(mecab_split(kor))\n",
    "     #현재 문장('kor')를'mecab_split'함수에 넣어 형태소로 분리한 결과를 'mecab_corpus'리스트에 추가."
   ]
  },
  {
   "cell_type": "code",
   "execution_count": 16,
   "metadata": {
    "id": "NF2OEEQY_Fv0"
   },
   "outputs": [
    {
     "name": "stdout",
     "output_type": "stream",
     "text": [
      "MeCab Vocab Size: 52279\n"
     ]
    }
   ],
   "source": [
    "#형태소 기반 토큰화된 'mecab_corpus'를 숫자 시퀀스로 변환하고, 그 결과로 생성된 토크나이저의 단어 사전 크기를 출력.\n",
    "mecab_tensor, mecab_tokenizer = tokenize(mecab_corpus)\n",
    "\n",
    "print(\"MeCab Vocab Size:\", len(mecab_tokenizer.index_word))"
   ]
  },
  {
   "cell_type": "markdown",
   "metadata": {
    "id": "NXJ-5f-W_am1"
   },
   "source": [
    "형태소 기반 토크나이저의 단어 사전 크기: 52779\n",
    "\n",
    "공백 기반 토크나이저의 단어 사전 크기(237435)에 비해 단어 수가 현저히 줄어듦.\n",
    "\n",
    "이는 곧 연산량 감소로이어져 더 빠른 학습을 가능케 하고, 모델이 튜닝해야 하는 parameter 수가 줄어 들어 학습도 잘됨.\n",
    "\n",
    "적어도 한국어를 처리할 때는 공백 기반 토큰화를 절 대 지 양!"
   ]
  },
  {
   "cell_type": "markdown",
   "metadata": {
    "id": "_LRw20QlCRXz"
   },
   "source": [
    "# 디코딩: Tensor -> 문장"
   ]
  },
  {
   "cell_type": "code",
   "execution_count": 17,
   "metadata": {
    "id": "HPDpeGomCvEb"
   },
   "outputs": [
    {
     "name": "stdout",
     "output_type": "stream",
     "text": [
      "영화 홍보 를 위해 미스터 토론 토라 불리 는 캐릭터 가 캐나다 를 가로지르 는 여행 을 펼치 고 있 다 .\n"
     ]
    }
   ],
   "source": [
    "#'tokenizer.sequences_to_texts()'함수를 사용하여 mecab_tensor[100]을 디코딩\n",
    "\n",
    "texts = mecab_tokenizer.sequences_to_texts([mecab_tensor[100]])\n",
    "  #'mecab_tensor' 중 101번째 데이터를 선택하여 텍스트로 변환.\n",
    "  #'sequences_to_texts()'함수는 리스트를 입력으로 받으므로 리스트로 감싸서 입력\n",
    "print(texts[0])  #texts리스트의 첫 번째 원소를 출력. 어차피 texts리스트는 101번째 데이터 하나만 선택했기때문에 원소가 1개이긴함."
   ]
  },
  {
   "cell_type": "code",
   "execution_count": 18,
   "metadata": {
    "id": "BtkqpNXqEBtL"
   },
   "outputs": [
    {
     "name": "stdout",
     "output_type": "stream",
     "text": [
      "영화홍보를위해미스터토론토라불리는캐릭터가캐나다를가로지르는여행을펼치고있다.\n"
     ]
    }
   ],
   "source": [
    "#'tokenizer.index_word'를 사용하여 mecab_tensor[100]을 디코딩\n",
    "\n",
    "sentence = ''\n",
    "\n",
    "for w in mecab_tensor[100]:  #101번째 데이터에 있는 각 숫자를 반복. 'w'변수: 현재 숫자를 나타냄.\n",
    "    if w == 0: continue  #'w'가 0인 경우는 패딩으로 나타내므로 무시하고 넘어감.\n",
    "    sentence += mecab_tokenizer.index_word[w] + ''\n",
    "      #현재 숫자'w'에 해당하는 단어를 'mecab_tokenizer.index_word'를 사용하여 단어로 변환하고, sentence에 추가.\\\n",
    "      #이때 단어 사이에 공백을 추가하여 문장을 구성.\n",
    "\n",
    "print(sentence)"
   ]
  },
  {
   "cell_type": "markdown",
   "metadata": {
    "id": "yvDxBor0619d"
   },
   "source": [
    "# 프로젝트 : 멋진 단어사전 만들기\n"
   ]
  },
  {
   "cell_type": "markdown",
   "metadata": {
    "id": "egyGSDRx7ADS"
   },
   "source": [
    "##STEP1. SentencePiece 설치하기"
   ]
  },
  {
   "cell_type": "code",
   "execution_count": 19,
   "metadata": {
    "id": "oDe4NJI768UR"
   },
   "outputs": [
    {
     "name": "stdout",
     "output_type": "stream",
     "text": [
      "Requirement already satisfied: sentencepiece in /opt/conda/lib/python3.9/site-packages (0.1.96)\n",
      "\u001b[33mWARNING: Running pip as the 'root' user can result in broken permissions and conflicting behaviour with the system package manager. It is recommended to use a virtual environment instead: https://pip.pypa.io/warnings/venv\u001b[0m\n",
      "Note: you may need to restart the kernel to use updated packages.\n"
     ]
    }
   ],
   "source": [
    "pip install sentencepiece"
   ]
  },
  {
   "cell_type": "markdown",
   "metadata": {
    "id": "-pnibED77Dwk"
   },
   "source": [
    "##STEP2. SentencePiece 모델 학습\n",
    "\n",
    "spm(SentencePiece)는 오픈 소스의 자연어 처리 라이브러리로서, 서브워드 토큰화를 수행하는 도구이다.\n",
    "\n",
    "서브워드 토큰화는 단어를 더 작은 단위로 분할하여 처리하는 방법으로, 공백 단위나 형태소 단위로 토큰화하지 않고도 언어의 복잡성을 다룰 수 있다.\n",
    "\n",
    "    토크나이저를 학습?훈련?\n",
    "    A) 주어진 텍스트 데이터에서 어떤 패턴을 학습하여 토큰화할 것인지 결정하고 학습된 토크나이저 모델을 파일로 저장한다. 저장된 토크나이저 모델을 사용하여 실제 텍스트 데이터를 토큰 단위로 분리하여 처리한다."
   ]
  },
  {
   "cell_type": "code",
   "execution_count": 20,
   "metadata": {
    "id": "ExB00FKm7J9v"
   },
   "outputs": [],
   "source": [
    "def tokenize(corpus):  # corpus: Tokenized Sentence's List\n",
    "    tokenizer = tf.keras.preprocessing.text.Tokenizer(filters='')\n",
    "    tokenizer.fit_on_texts(corpus)\n",
    "\n",
    "    tensor = tokenizer.texts_to_sequences(corpus)\n",
    "\n",
    "    tensor = tf.keras.preprocessing.sequence.pad_sequences(tensor, padding='post')\n",
    "\n",
    "    return tensor, tokenizer"
   ]
  },
  {
   "cell_type": "markdown",
   "metadata": {
    "id": "pF4iTVRr7Nnw"
   },
   "source": [
    "tf.keras.preprocessing.text.Tokenizer에 corpus를 입력하고 tokenizer.fit_on_texts(corpus)을 하면 토크나이저 내부적으로 단어사전과 토크나이저 기능을 corpus에 맞춤형으로 자동 생성해줌."
   ]
  },
  {
   "cell_type": "code",
   "execution_count": 21,
   "metadata": {
    "id": "DWJmvgvl7OXw"
   },
   "outputs": [],
   "source": [
    "import os\n",
    "path_to_file = os.getenv('HOME')+'/aiffel/sp_tokenizer/data/korean-english-park.train.ko'\n",
    "with open(path_to_file, \"r\") as f:\n",
    "    raw = f.read().splitlines()\n",
    "\n",
    "cleaned_corpus = list(set(raw))\n",
    "\n",
    "max_len = 150\n",
    "min_len = 10\n",
    "\n",
    "# 길이 조건에 맞는 문장만 선택하여 'filtered_corpus'리스트에 저장.\n",
    "filtered_corpus = [s for s in cleaned_corpus if (len(s) < max_len) & (len(s) >= min_len)]"
   ]
  },
  {
   "cell_type": "code",
   "execution_count": 22,
   "metadata": {
    "id": "nqawIvMs7SUu"
   },
   "outputs": [
    {
     "name": "stderr",
     "output_type": "stream",
     "text": [
      "sentencepiece_trainer.cc(177) LOG(INFO) Running command: --input=/aiffel/aiffel/sp_tokenizer/data/korean-english-park.train.ko.temp --model_prefix=korean_spm --vocab_size=8000\n",
      "sentencepiece_trainer.cc(77) LOG(INFO) Starts training with : \n",
      "trainer_spec {\n",
      "  input: /aiffel/aiffel/sp_tokenizer/data/korean-english-park.train.ko.temp\n",
      "  input_format: \n",
      "  model_prefix: korean_spm\n",
      "  model_type: UNIGRAM\n",
      "  vocab_size: 8000\n",
      "  self_test_sample_size: 0\n",
      "  character_coverage: 0.9995\n",
      "  input_sentence_size: 0\n",
      "  shuffle_input_sentence: 1\n",
      "  seed_sentencepiece_size: 1000000\n",
      "  shrinking_factor: 0.75\n",
      "  max_sentence_length: 4192\n",
      "  num_threads: 16\n",
      "  num_sub_iterations: 2\n",
      "  max_sentencepiece_length: 16\n",
      "  split_by_unicode_script: 1\n",
      "  split_by_number: 1\n",
      "  split_by_whitespace: 1\n",
      "  split_digits: 0\n",
      "  treat_whitespace_as_suffix: 0\n",
      "  allow_whitespace_only_pieces: 0\n",
      "  required_chars: \n",
      "  byte_fallback: 0\n",
      "  vocabulary_output_piece_score: 1\n",
      "  train_extremely_large_corpus: 0\n",
      "  hard_vocab_limit: 1\n",
      "  use_all_vocab: 0\n",
      "  unk_id: 0\n",
      "  bos_id: 1\n",
      "  eos_id: 2\n",
      "  pad_id: -1\n",
      "  unk_piece: <unk>\n",
      "  bos_piece: <s>\n",
      "  eos_piece: </s>\n",
      "  pad_piece: <pad>\n",
      "  unk_surface:  ⁇ \n",
      "}\n",
      "normalizer_spec {\n",
      "  name: nmt_nfkc\n",
      "  add_dummy_prefix: 1\n",
      "  remove_extra_whitespaces: 1\n",
      "  escape_whitespaces: 1\n",
      "  normalization_rule_tsv: \n",
      "}\n",
      "denormalizer_spec {}\n",
      "trainer_interface.cc(329) LOG(INFO) SentenceIterator is not specified. Using MultiFileSentenceIterator.\n",
      "trainer_interface.cc(178) LOG(INFO) Loading corpus: /aiffel/aiffel/sp_tokenizer/data/korean-english-park.train.ko.temp\n",
      "trainer_interface.cc(385) LOG(INFO) Loaded all 76908 sentences\n",
      "trainer_interface.cc(400) LOG(INFO) Adding meta_piece: <unk>\n",
      "trainer_interface.cc(400) LOG(INFO) Adding meta_piece: <s>\n",
      "trainer_interface.cc(400) LOG(INFO) Adding meta_piece: </s>\n",
      "trainer_interface.cc(405) LOG(INFO) Normalizing sentences...\n",
      "trainer_interface.cc(466) LOG(INFO) all chars count=4996369\n",
      "trainer_interface.cc(477) LOG(INFO) Done: 99.95% characters are covered.\n",
      "trainer_interface.cc(487) LOG(INFO) Alphabet size=1317\n",
      "trainer_interface.cc(488) LOG(INFO) Final character coverage=0.9995\n",
      "trainer_interface.cc(520) LOG(INFO) Done! preprocessed 76908 sentences.\n",
      "unigram_model_trainer.cc(139) LOG(INFO) Making suffix array...\n",
      "unigram_model_trainer.cc(143) LOG(INFO) Extracting frequent sub strings...\n",
      "unigram_model_trainer.cc(194) LOG(INFO) Initialized 174340 seed sentencepieces\n",
      "trainer_interface.cc(526) LOG(INFO) Tokenizing input sentences with whitespace: 76908\n",
      "trainer_interface.cc(537) LOG(INFO) Done! 237965\n",
      "unigram_model_trainer.cc(489) LOG(INFO) Using 237965 sentences for EM training\n",
      "unigram_model_trainer.cc(505) LOG(INFO) EM sub_iter=0 size=92555 obj=14.853 num_tokens=523272 num_tokens/piece=5.65363\n",
      "unigram_model_trainer.cc(505) LOG(INFO) EM sub_iter=1 size=82083 obj=13.516 num_tokens=525776 num_tokens/piece=6.40542\n",
      "unigram_model_trainer.cc(505) LOG(INFO) EM sub_iter=0 size=61555 obj=13.5533 num_tokens=546907 num_tokens/piece=8.88485\n",
      "unigram_model_trainer.cc(505) LOG(INFO) EM sub_iter=1 size=61506 obj=13.5101 num_tokens=547350 num_tokens/piece=8.89913\n",
      "unigram_model_trainer.cc(505) LOG(INFO) EM sub_iter=0 size=46126 obj=13.6926 num_tokens=575369 num_tokens/piece=12.4739\n",
      "unigram_model_trainer.cc(505) LOG(INFO) EM sub_iter=1 size=46126 obj=13.6493 num_tokens=575466 num_tokens/piece=12.476\n",
      "unigram_model_trainer.cc(505) LOG(INFO) EM sub_iter=0 size=34594 obj=13.8894 num_tokens=606014 num_tokens/piece=17.5179\n",
      "unigram_model_trainer.cc(505) LOG(INFO) EM sub_iter=1 size=34594 obj=13.8387 num_tokens=606012 num_tokens/piece=17.5178\n",
      "unigram_model_trainer.cc(505) LOG(INFO) EM sub_iter=0 size=25945 obj=14.1301 num_tokens=637532 num_tokens/piece=24.5724\n",
      "unigram_model_trainer.cc(505) LOG(INFO) EM sub_iter=1 size=25945 obj=14.0747 num_tokens=637568 num_tokens/piece=24.5738\n",
      "unigram_model_trainer.cc(505) LOG(INFO) EM sub_iter=0 size=19458 obj=14.4091 num_tokens=670960 num_tokens/piece=34.4825\n",
      "unigram_model_trainer.cc(505) LOG(INFO) EM sub_iter=1 size=19458 obj=14.3468 num_tokens=670999 num_tokens/piece=34.4845\n",
      "unigram_model_trainer.cc(505) LOG(INFO) EM sub_iter=0 size=14593 obj=14.7196 num_tokens=705636 num_tokens/piece=48.3544\n",
      "unigram_model_trainer.cc(505) LOG(INFO) EM sub_iter=1 size=14593 obj=14.648 num_tokens=705645 num_tokens/piece=48.355\n",
      "unigram_model_trainer.cc(505) LOG(INFO) EM sub_iter=0 size=10944 obj=15.0875 num_tokens=741620 num_tokens/piece=67.765\n",
      "unigram_model_trainer.cc(505) LOG(INFO) EM sub_iter=1 size=10944 obj=15.007 num_tokens=741624 num_tokens/piece=67.7654\n",
      "unigram_model_trainer.cc(505) LOG(INFO) EM sub_iter=0 size=8800 obj=15.3757 num_tokens=769363 num_tokens/piece=87.4276\n",
      "unigram_model_trainer.cc(505) LOG(INFO) EM sub_iter=1 size=8800 obj=15.307 num_tokens=769367 num_tokens/piece=87.4281\n",
      "trainer_interface.cc(615) LOG(INFO) Saving model: korean_spm.model\n",
      "trainer_interface.cc(626) LOG(INFO) Saving vocabs: korean_spm.vocab\n"
     ]
    },
    {
     "name": "stdout",
     "output_type": "stream",
     "text": [
      "-rw-r--r-- 1 root root 376816 Aug 16 05:52 korean_spm.model\r\n",
      "-rw-r--r-- 1 root root 146213 Aug 16 05:52 korean_spm.vocab\r\n"
     ]
    }
   ],
   "source": [
    "import sentencepiece as spm\n",
    "import os\n",
    "temp_file = os.getenv('HOME')+'/aiffel/sp_tokenizer/data/korean-english-park.train.ko.temp'\n",
    "\n",
    "vocab_size = 8000\n",
    "\n",
    "with open(temp_file, 'w') as f:\n",
    "    for row in filtered_corpus:   # 이전에 나왔던 정제했던 corpus를 활용해서 진행해야 합니다.\n",
    "        f.write(str(row) + '\\n')\n",
    "\n",
    "spm.SentencePieceTrainer.Train(  #sentencepiece를 사용하여 토크나이저를 훈련\n",
    "    '--input={} --model_prefix=korean_spm --vocab_size={}'.format(temp_file, vocab_size)\n",
    ")  #'input':입력 파일 지정, 'model_prefix': 모델의 이름 접두사 설정, 'vocab_size': 어휘 사전 크기 지정\n",
    "#위 Train에서  --model_type = unigram이 디폴트 적용되어 있습니다. --model_type = bpe로 옵션을 주어 변경할 수 있습니다.\n",
    "\n",
    "!ls -l korean_spm*  #훈련된 sentencepiece 모델 파일과 관련 파일을 확인하기 위한 명령어. 훈련된 모든 파일이 출력됨."
   ]
  },
  {
   "cell_type": "markdown",
   "metadata": {
    "id": "QWCXR1687W_V"
   },
   "source": [
    "위 코드를 실행하면 정상적으로 sentencepiece 모델 학습이 완료된 후 korean_spm.model파일과 korean_spm.vocab vocabulary 파일이 생성되었음을 확인할 수 있음."
   ]
  },
  {
   "cell_type": "code",
   "execution_count": 23,
   "metadata": {
    "id": "zmnXb4sU7Xu0"
   },
   "outputs": [
    {
     "name": "stdout",
     "output_type": "stream",
     "text": [
      "[1243, 11, 302, 7, 3608, 11, 287, 38, 3]\n",
      "['▁아버지', '가', '방', '에', '들어', '가', '신', '다', '.']\n",
      "아버지가방에들어가신다.\n"
     ]
    }
   ],
   "source": [
    "s = spm.SentencePieceProcessor()\n",
    "s.Load('korean_spm.model')\n",
    "\n",
    "# SentencePiece를 활용한 sentence -> encoding\n",
    "tokensIDs = s.EncodeAsIds('아버지가방에들어가신다.')\n",
    "print(tokensIDs)\n",
    "\n",
    "# SentencePiece를 활용한 sentence -> encoded pieces\n",
    "print(s.SampleEncodeAsPieces('아버지가방에들어가신다.',1, 0.0))\n",
    "\n",
    "# SentencePiece를 활용한 encoding -> sentence 복원\n",
    "print(s.DecodeIds(tokensIDs))"
   ]
  },
  {
   "cell_type": "markdown",
   "metadata": {
    "id": "ezaTQAB_7c3P"
   },
   "source": [
    "##STEP3. Tokenizer 함수 작성\n",
    "\n",
    "훈련시킨 SentencePiece를 활용하여 위 함수와 유사한 기능을 하는 sp_tokenize()함수를 정의.\n",
    "\n",
    "하지만 sentencepiece가 동작하는 방식이 단순 토큰화와는 달라 완전히 동일하게 정의하기는 어려움.\n",
    "\n",
    "아래 조건을 만족하는 함수를 정의하도록 하자.\n",
    "\n",
    "    1. 온전한 문장의 list를 전달\n",
    "    2. 생성된 vocab 파일을 읽어와 { <word> : <idx> }형태를 가지는 word_index 사전과 { <idx> : <word> }형태를 가지는 idex_word 사전을 생성하고 함께 반환\n",
    "    3. 리턴값인 tensor는 앞의 함수와 동일하게 토큰화한 후 encoding된 문장이다. 패딩O"
   ]
  },
  {
   "cell_type": "code",
   "execution_count": 24,
   "metadata": {
    "id": "6_8V8NXW7hjY"
   },
   "outputs": [],
   "source": [
    "def sp_tokenize(s, corpus):\n",
    "\n",
    "    tensor = []  #변환된 토큰들을 입력할 빈 리스트\n",
    "\n",
    "    for sen in corpus:  #'corpus'리스트에 있는 각 문장('sen')에 대해 반복문을 실행\n",
    "        tensor.append(s.EncodeAsIds(sen))\n",
    "          #spm 모델 s'를 활용해 입력 문장을 토큰화하고, 숫자 시퀀스로 변환한 결과를 'tensor'리스트에 추가\n",
    "\n",
    "    with open(\"./korean_spm.vocab\", 'r') as f:  #vocab 파일 열기, 'r': 읽기 모드로 파일 열기\n",
    "        vocab = f.readlines()  #파일을 한 줄씩 읽어와서 리스트로 반환\n",
    "\n",
    "    word_index = {}  #'word_index' 딕셔너리 생성\n",
    "    index_word = {}  #'index_word' 딕셔너리 생성\n",
    "      #생성된 vocab 파일로 각 딕셔너리 형식에 맞게 각각 생성\n",
    "\n",
    "    for idx, line in enumerate(vocab):\n",
    "      #'vocab'리스트에 있는 각 줄을 순회하며 인덱스 'idx'와 해달 줄의 내용 'line'을 추출\n",
    "        word = line.split(\"\\t\")[0]\n",
    "          #'line'을 탭('\\t')으로 분리하여 얻은 리스트에서 첫 번째 열에 있는 토큰을 추출하여 'word'변수에 저장\n",
    "          #이렇게 추출된 토큰은 딕셔너리에 토큰과 숫자 ID를 매핑하는데 사용\n",
    "\n",
    "        word_index.update({word:idx})  #토큰을 key로, 해당 토큰의 숫자 id를 value로.\n",
    "          #토큰을 기반으로 숫자ID를 검색.\n",
    "        index_word.update({idx:word})\n",
    "\n",
    "    tensor = tf.keras.preprocessing.sequence.pad_sequences(tensor, padding='post')\n",
    "      #변환된 토큰의 숫자 시퀀스를 패딩하여 길이를 맞춤\n",
    "\n",
    "    return tensor, word_index, index_word\n",
    "      #토큰화된 숫자 시퀀스('tensor')와 단어-인덱스 매핑하는 'word_index', 인덱스-단어를 매핑하는 'index_word'를 반환"
   ]
  },
  {
   "cell_type": "markdown",
   "metadata": {
    "id": "N86z8cz47mWo"
   },
   "source": [
    "'s.EncoodeAsIds()'는 sentencepiece 모델 's'를 사용하여 주어진 문장을 토큰화하고, 토큰들을 해당하는 숫자ID로 변환하는 메서드.\n",
    "spm은 단어나 서브워드와 같은 토큰들을 숫자 ID로 매핑하는 방식으로 작동.\n",
    "\n",
    "spm을 학습하면, 학습 데이터에서 나타난 서브워드 단위의 패턴이 어휘 사전으로 생성된다.이렇게 생성된 어휘 사전에 따라 문장을 토큰화하고, 토큰들을 해당하는 숫자ID로 변환하는 것이 's.EncodeAsIds()'이다. 즉, 숫자ID 시퀀스로 변환해준다."
   ]
  },
  {
   "cell_type": "markdown",
   "metadata": {
    "id": "lF9sot2y7oce"
   },
   "source": [
    "##STEP4. 네이버 영화리뷰 감정 분석 문제에 SentencePiece 적용해보기"
   ]
  },
  {
   "cell_type": "markdown",
   "metadata": {
    "id": "gxQTmtHEKnNx"
   },
   "source": [
    "##1.데이터 로드"
   ]
  },
  {
   "cell_type": "code",
   "execution_count": 25,
   "metadata": {
    "id": "U5KRWQxTJ7vA"
   },
   "outputs": [],
   "source": [
    "import pickle\n",
    "import pandas as pd\n",
    "import numpy as np\n",
    "import matplotlib.pyplot as plt\n",
    "import re\n",
    "import urllib.request\n",
    "from tqdm import tqdm\n",
    "from tensorflow.keras.preprocessing.text import Tokenizer\n",
    "from tensorflow.keras.preprocessing.sequence import pad_sequences"
   ]
  },
  {
   "cell_type": "code",
   "execution_count": 26,
   "metadata": {
    "colab": {
     "base_uri": "https://localhost:8080/"
    },
    "id": "V5wgT2GSJ9Q2",
    "outputId": "ccf11e4d-080f-4ca3-f463-3469e5d0ecc0"
   },
   "outputs": [
    {
     "data": {
      "text/plain": [
       "('ratings_test.txt', <http.client.HTTPMessage at 0x7fb936fa0550>)"
      ]
     },
     "execution_count": 26,
     "metadata": {},
     "output_type": "execute_result"
    }
   ],
   "source": [
    "urllib.request.urlretrieve(\"https://raw.githubusercontent.com/e9t/nsmc/master/ratings_train.txt\", filename=\"ratings_train.txt\")\n",
    "urllib.request.urlretrieve(\"https://raw.githubusercontent.com/e9t/nsmc/master/ratings_test.txt\", filename=\"ratings_test.txt\")"
   ]
  },
  {
   "cell_type": "code",
   "execution_count": 27,
   "metadata": {
    "id": "2YtlKG4CKJ1d"
   },
   "outputs": [],
   "source": [
    "train_data = pd.read_table('ratings_train.txt')\n",
    "test_data = pd.read_table('ratings_test.txt')"
   ]
  },
  {
   "cell_type": "code",
   "execution_count": 28,
   "metadata": {
    "colab": {
     "base_uri": "https://localhost:8080/"
    },
    "id": "_EjPtL9zKLdC",
    "outputId": "c4b1eb1a-f4ae-44ab-8dc1-4fa6b79af63b"
   },
   "outputs": [
    {
     "name": "stdout",
     "output_type": "stream",
     "text": [
      "훈련용 리뷰 개수 : 150000\n"
     ]
    }
   ],
   "source": [
    "print('훈련용 리뷰 개수 :',len(train_data)) # 훈련용 리뷰 개수 출력"
   ]
  },
  {
   "cell_type": "code",
   "execution_count": 29,
   "metadata": {
    "colab": {
     "base_uri": "https://localhost:8080/",
     "height": 250
    },
    "id": "2i3I2AxQKOYt",
    "outputId": "2d058059-e2c8-4afc-a9ae-1596fe2fa856"
   },
   "outputs": [
    {
     "data": {
      "text/html": [
       "<div>\n",
       "<style scoped>\n",
       "    .dataframe tbody tr th:only-of-type {\n",
       "        vertical-align: middle;\n",
       "    }\n",
       "\n",
       "    .dataframe tbody tr th {\n",
       "        vertical-align: top;\n",
       "    }\n",
       "\n",
       "    .dataframe thead th {\n",
       "        text-align: right;\n",
       "    }\n",
       "</style>\n",
       "<table border=\"1\" class=\"dataframe\">\n",
       "  <thead>\n",
       "    <tr style=\"text-align: right;\">\n",
       "      <th></th>\n",
       "      <th>id</th>\n",
       "      <th>document</th>\n",
       "      <th>label</th>\n",
       "    </tr>\n",
       "  </thead>\n",
       "  <tbody>\n",
       "    <tr>\n",
       "      <th>0</th>\n",
       "      <td>9976970</td>\n",
       "      <td>아 더빙.. 진짜 짜증나네요 목소리</td>\n",
       "      <td>0</td>\n",
       "    </tr>\n",
       "    <tr>\n",
       "      <th>1</th>\n",
       "      <td>3819312</td>\n",
       "      <td>흠...포스터보고 초딩영화줄....오버연기조차 가볍지 않구나</td>\n",
       "      <td>1</td>\n",
       "    </tr>\n",
       "    <tr>\n",
       "      <th>2</th>\n",
       "      <td>10265843</td>\n",
       "      <td>너무재밓었다그래서보는것을추천한다</td>\n",
       "      <td>0</td>\n",
       "    </tr>\n",
       "    <tr>\n",
       "      <th>3</th>\n",
       "      <td>9045019</td>\n",
       "      <td>교도소 이야기구먼 ..솔직히 재미는 없다..평점 조정</td>\n",
       "      <td>0</td>\n",
       "    </tr>\n",
       "    <tr>\n",
       "      <th>4</th>\n",
       "      <td>6483659</td>\n",
       "      <td>사이몬페그의 익살스런 연기가 돋보였던 영화!스파이더맨에서 늙어보이기만 했던 커스틴 ...</td>\n",
       "      <td>1</td>\n",
       "    </tr>\n",
       "  </tbody>\n",
       "</table>\n",
       "</div>"
      ],
      "text/plain": [
       "         id                                           document  label\n",
       "0   9976970                                아 더빙.. 진짜 짜증나네요 목소리      0\n",
       "1   3819312                  흠...포스터보고 초딩영화줄....오버연기조차 가볍지 않구나      1\n",
       "2  10265843                                  너무재밓었다그래서보는것을추천한다      0\n",
       "3   9045019                      교도소 이야기구먼 ..솔직히 재미는 없다..평점 조정      0\n",
       "4   6483659  사이몬페그의 익살스런 연기가 돋보였던 영화!스파이더맨에서 늙어보이기만 했던 커스틴 ...      1"
      ]
     },
     "execution_count": 29,
     "metadata": {},
     "output_type": "execute_result"
    }
   ],
   "source": [
    "train_data[:5] # 상위 5개 출력\n"
   ]
  },
  {
   "cell_type": "markdown",
   "metadata": {
    "id": "U6lZmCKnKsQS"
   },
   "source": [
    "##2.데이터 전처리 - spm 토큰화"
   ]
  },
  {
   "cell_type": "markdown",
   "metadata": {
    "id": "bHHpOSp0L4m8"
   },
   "source": [
    "**2-1.중복과 null값 제거**"
   ]
  },
  {
   "cell_type": "code",
   "execution_count": 30,
   "metadata": {
    "colab": {
     "base_uri": "https://localhost:8080/"
    },
    "id": "1nmVBUd-KuKP",
    "outputId": "ee707da9-9163-4eae-fd84-2dd3558504a7"
   },
   "outputs": [
    {
     "data": {
      "text/plain": [
       "(146182, 2)"
      ]
     },
     "execution_count": 30,
     "metadata": {},
     "output_type": "execute_result"
    }
   ],
   "source": [
    "# document 열과 label 열의 중복을 제외한 값의 개수\n",
    "train_data['document'].nunique(), train_data['label'].nunique()\n"
   ]
  },
  {
   "cell_type": "code",
   "execution_count": 31,
   "metadata": {
    "id": "1CN9KNNbKwcC"
   },
   "outputs": [],
   "source": [
    "# document 열의 중복 제거\n",
    "train_data.drop_duplicates(subset=['document'], inplace=True)\n"
   ]
  },
  {
   "cell_type": "code",
   "execution_count": 32,
   "metadata": {
    "colab": {
     "base_uri": "https://localhost:8080/"
    },
    "id": "32PYhLyjKyNy",
    "outputId": "037cc4a9-0fc4-4bce-c7e3-523c4e20c510"
   },
   "outputs": [
    {
     "name": "stdout",
     "output_type": "stream",
     "text": [
      "총 샘플의 수 : 146183\n"
     ]
    }
   ],
   "source": [
    "print('총 샘플의 수 :',len(train_data))\n"
   ]
  },
  {
   "cell_type": "code",
   "execution_count": 33,
   "metadata": {
    "colab": {
     "base_uri": "https://localhost:8080/",
     "height": 443
    },
    "id": "dPVusokJK0fO",
    "outputId": "917b0a03-d83e-489b-da00-3a50e3f263b0"
   },
   "outputs": [
    {
     "data": {
      "text/plain": [
       "<AxesSubplot:>"
      ]
     },
     "execution_count": 33,
     "metadata": {},
     "output_type": "execute_result"
    },
    {
     "data": {
      "image/png": "[encoded data removed]",
      "text/plain": [
       "<Figure size 432x288 with 1 Axes>"
      ]
     },
     "metadata": {
      "needs_background": "light"
     },
     "output_type": "display_data"
    }
   ],
   "source": [
    "train_data['label'].value_counts().plot(kind = 'bar')\n"
   ]
  },
  {
   "cell_type": "markdown",
   "metadata": {
    "id": "k9Ztr9jXK3Xr"
   },
   "source": [
    "train data에서 해당 리뷰의 긍정과 부정 유무가 기재되어 있는 label값의 분포가 균일한 것처럼 보인다."
   ]
  },
  {
   "cell_type": "code",
   "execution_count": 34,
   "metadata": {
    "colab": {
     "base_uri": "https://localhost:8080/"
    },
    "id": "_5sr4_UtLBjz",
    "outputId": "c86b0624-0b75-4bc0-a91e-413e9d321fe0"
   },
   "outputs": [
    {
     "name": "stdout",
     "output_type": "stream",
     "text": [
      "   label  count\n",
      "0      0  73342\n",
      "1      1  72841\n"
     ]
    }
   ],
   "source": [
    "print(train_data.groupby('label').size().reset_index(name = 'count'))"
   ]
  },
  {
   "cell_type": "code",
   "execution_count": 35,
   "metadata": {
    "colab": {
     "base_uri": "https://localhost:8080/"
    },
    "id": "IELjehmQLDqS",
    "outputId": "1ec4f9ed-b28a-4fa9-c3e2-da1397e23ef0"
   },
   "outputs": [
    {
     "name": "stdout",
     "output_type": "stream",
     "text": [
      "True\n"
     ]
    }
   ],
   "source": [
    "#리뷰 중에 Null값을 가진 샘플이 있는지 확인\n",
    "print(train_data.isnull().values.any())\n"
   ]
  },
  {
   "cell_type": "code",
   "execution_count": 36,
   "metadata": {
    "colab": {
     "base_uri": "https://localhost:8080/"
    },
    "id": "L8HF5J2DLY7L",
    "outputId": "b86ef3ba-ebcd-4db9-8b54-93c930949f83"
   },
   "outputs": [
    {
     "name": "stdout",
     "output_type": "stream",
     "text": [
      "id          0\n",
      "document    1\n",
      "label       0\n",
      "dtype: int64\n"
     ]
    }
   ],
   "source": [
    "#Null값이 어떤 열에 존재하는지 확인\n",
    "print(train_data.isnull().sum())"
   ]
  },
  {
   "cell_type": "code",
   "execution_count": 37,
   "metadata": {
    "colab": {
     "base_uri": "https://localhost:8080/",
     "height": 81
    },
    "id": "3qhT7GPVLf9F",
    "outputId": "84d7a84d-d3ea-4589-bce4-175819e0708a"
   },
   "outputs": [
    {
     "data": {
      "text/html": [
       "<div>\n",
       "<style scoped>\n",
       "    .dataframe tbody tr th:only-of-type {\n",
       "        vertical-align: middle;\n",
       "    }\n",
       "\n",
       "    .dataframe tbody tr th {\n",
       "        vertical-align: top;\n",
       "    }\n",
       "\n",
       "    .dataframe thead th {\n",
       "        text-align: right;\n",
       "    }\n",
       "</style>\n",
       "<table border=\"1\" class=\"dataframe\">\n",
       "  <thead>\n",
       "    <tr style=\"text-align: right;\">\n",
       "      <th></th>\n",
       "      <th>id</th>\n",
       "      <th>document</th>\n",
       "      <th>label</th>\n",
       "    </tr>\n",
       "  </thead>\n",
       "  <tbody>\n",
       "    <tr>\n",
       "      <th>25857</th>\n",
       "      <td>2172111</td>\n",
       "      <td>NaN</td>\n",
       "      <td>1</td>\n",
       "    </tr>\n",
       "  </tbody>\n",
       "</table>\n",
       "</div>"
      ],
      "text/plain": [
       "            id document  label\n",
       "25857  2172111      NaN      1"
      ]
     },
     "execution_count": 37,
     "metadata": {},
     "output_type": "execute_result"
    }
   ],
   "source": [
    "#Null값을 가진 샘플의 인덱스 위치 출력\n",
    "train_data.loc[train_data.document.isnull()]"
   ]
  },
  {
   "cell_type": "code",
   "execution_count": 38,
   "metadata": {
    "colab": {
     "base_uri": "https://localhost:8080/"
    },
    "id": "-CfEBdTmLm_y",
    "outputId": "b78c0e3a-5d74-4e76-c057-ac7df0086d93"
   },
   "outputs": [
    {
     "name": "stdout",
     "output_type": "stream",
     "text": [
      "False\n"
     ]
    }
   ],
   "source": [
    "#Null값 가진 샘플을 제거\n",
    "train_data = train_data.dropna(how = 'any') # Null 값이 존재하는 행 제거\n",
    "print(train_data.isnull().values.any()) # Null 값이 존재하는지 확인"
   ]
  },
  {
   "cell_type": "markdown",
   "metadata": {
    "id": "zhbMOFXbL_H2"
   },
   "source": [
    "**2-2. 텍스트 정규화**"
   ]
  },
  {
   "cell_type": "code",
   "execution_count": 39,
   "metadata": {
    "colab": {
     "base_uri": "https://localhost:8080/",
     "height": 306
    },
    "id": "SwLQ_rDOMD2p",
    "outputId": "dc705cc6-5999-4e3a-f6f5-f87f87ec1de2"
   },
   "outputs": [
    {
     "name": "stderr",
     "output_type": "stream",
     "text": [
      "/tmp/ipykernel_2468/3525229848.py:2: FutureWarning: The default value of regex will change from True to False in a future version.\n",
      "  train_data['document'] = train_data['document'].str.replace(\"[^ㄱ-ㅎㅏ-ㅣ가-힣 ]\",\"\")\n"
     ]
    },
    {
     "data": {
      "text/html": [
       "<div>\n",
       "<style scoped>\n",
       "    .dataframe tbody tr th:only-of-type {\n",
       "        vertical-align: middle;\n",
       "    }\n",
       "\n",
       "    .dataframe tbody tr th {\n",
       "        vertical-align: top;\n",
       "    }\n",
       "\n",
       "    .dataframe thead th {\n",
       "        text-align: right;\n",
       "    }\n",
       "</style>\n",
       "<table border=\"1\" class=\"dataframe\">\n",
       "  <thead>\n",
       "    <tr style=\"text-align: right;\">\n",
       "      <th></th>\n",
       "      <th>id</th>\n",
       "      <th>document</th>\n",
       "      <th>label</th>\n",
       "    </tr>\n",
       "  </thead>\n",
       "  <tbody>\n",
       "    <tr>\n",
       "      <th>0</th>\n",
       "      <td>9976970</td>\n",
       "      <td>아 더빙 진짜 짜증나네요 목소리</td>\n",
       "      <td>0</td>\n",
       "    </tr>\n",
       "    <tr>\n",
       "      <th>1</th>\n",
       "      <td>3819312</td>\n",
       "      <td>흠포스터보고 초딩영화줄오버연기조차 가볍지 않구나</td>\n",
       "      <td>1</td>\n",
       "    </tr>\n",
       "    <tr>\n",
       "      <th>2</th>\n",
       "      <td>10265843</td>\n",
       "      <td>너무재밓었다그래서보는것을추천한다</td>\n",
       "      <td>0</td>\n",
       "    </tr>\n",
       "    <tr>\n",
       "      <th>3</th>\n",
       "      <td>9045019</td>\n",
       "      <td>교도소 이야기구먼 솔직히 재미는 없다평점 조정</td>\n",
       "      <td>0</td>\n",
       "    </tr>\n",
       "    <tr>\n",
       "      <th>4</th>\n",
       "      <td>6483659</td>\n",
       "      <td>사이몬페그의 익살스런 연기가 돋보였던 영화스파이더맨에서 늙어보이기만 했던 커스틴 던...</td>\n",
       "      <td>1</td>\n",
       "    </tr>\n",
       "  </tbody>\n",
       "</table>\n",
       "</div>"
      ],
      "text/plain": [
       "         id                                           document  label\n",
       "0   9976970                                  아 더빙 진짜 짜증나네요 목소리      0\n",
       "1   3819312                         흠포스터보고 초딩영화줄오버연기조차 가볍지 않구나      1\n",
       "2  10265843                                  너무재밓었다그래서보는것을추천한다      0\n",
       "3   9045019                          교도소 이야기구먼 솔직히 재미는 없다평점 조정      0\n",
       "4   6483659  사이몬페그의 익살스런 연기가 돋보였던 영화스파이더맨에서 늙어보이기만 했던 커스틴 던...      1"
      ]
     },
     "execution_count": 39,
     "metadata": {},
     "output_type": "execute_result"
    }
   ],
   "source": [
    "# 한글과 공백을 제외하고 모두 제거\n",
    "train_data['document'] = train_data['document'].str.replace(\"[^ㄱ-ㅎㅏ-ㅣ가-힣 ]\",\"\")\n",
    "train_data[:5]"
   ]
  },
  {
   "cell_type": "code",
   "execution_count": 40,
   "metadata": {
    "colab": {
     "base_uri": "https://localhost:8080/"
    },
    "id": "YpTnTkZdMc3M",
    "outputId": "8f3a2367-12d8-4561-f6b8-eb01c36f5dd2"
   },
   "outputs": [
    {
     "name": "stdout",
     "output_type": "stream",
     "text": [
      "id            0\n",
      "document    789\n",
      "label         0\n",
      "dtype: int64\n"
     ]
    },
    {
     "name": "stderr",
     "output_type": "stream",
     "text": [
      "/tmp/ipykernel_2468/3514686550.py:2: FutureWarning: The default value of regex will change from True to False in a future version.\n",
      "  train_data['document'] = train_data['document'].str.replace('^ +', \"\") # white space 데이터를 empty value로 변경\n"
     ]
    }
   ],
   "source": [
    "#한글이 없는 리뷰는 빈 값이 되었을테니 다시 한번 이상치 제거\n",
    "train_data['document'] = train_data['document'].str.replace('^ +', \"\") # white space 데이터를 empty value로 변경\n",
    "train_data['document'].replace('', np.nan, inplace=True)\n",
    "print(train_data.isnull().sum())"
   ]
  },
  {
   "cell_type": "code",
   "execution_count": 41,
   "metadata": {
    "colab": {
     "base_uri": "https://localhost:8080/",
     "height": 206
    },
    "id": "tcz0Y7hjMoyx",
    "outputId": "c02f1b9b-d313-4aca-b88b-98da770ed9f0"
   },
   "outputs": [
    {
     "data": {
      "text/html": [
       "<div>\n",
       "<style scoped>\n",
       "    .dataframe tbody tr th:only-of-type {\n",
       "        vertical-align: middle;\n",
       "    }\n",
       "\n",
       "    .dataframe tbody tr th {\n",
       "        vertical-align: top;\n",
       "    }\n",
       "\n",
       "    .dataframe thead th {\n",
       "        text-align: right;\n",
       "    }\n",
       "</style>\n",
       "<table border=\"1\" class=\"dataframe\">\n",
       "  <thead>\n",
       "    <tr style=\"text-align: right;\">\n",
       "      <th></th>\n",
       "      <th>id</th>\n",
       "      <th>document</th>\n",
       "      <th>label</th>\n",
       "    </tr>\n",
       "  </thead>\n",
       "  <tbody>\n",
       "    <tr>\n",
       "      <th>404</th>\n",
       "      <td>4221289</td>\n",
       "      <td>NaN</td>\n",
       "      <td>0</td>\n",
       "    </tr>\n",
       "    <tr>\n",
       "      <th>412</th>\n",
       "      <td>9509970</td>\n",
       "      <td>NaN</td>\n",
       "      <td>1</td>\n",
       "    </tr>\n",
       "    <tr>\n",
       "      <th>470</th>\n",
       "      <td>10147571</td>\n",
       "      <td>NaN</td>\n",
       "      <td>1</td>\n",
       "    </tr>\n",
       "    <tr>\n",
       "      <th>584</th>\n",
       "      <td>7117896</td>\n",
       "      <td>NaN</td>\n",
       "      <td>0</td>\n",
       "    </tr>\n",
       "    <tr>\n",
       "      <th>593</th>\n",
       "      <td>6478189</td>\n",
       "      <td>NaN</td>\n",
       "      <td>0</td>\n",
       "    </tr>\n",
       "  </tbody>\n",
       "</table>\n",
       "</div>"
      ],
      "text/plain": [
       "           id document  label\n",
       "404   4221289      NaN      0\n",
       "412   9509970      NaN      1\n",
       "470  10147571      NaN      1\n",
       "584   7117896      NaN      0\n",
       "593   6478189      NaN      0"
      ]
     },
     "execution_count": 41,
     "metadata": {},
     "output_type": "execute_result"
    }
   ],
   "source": [
    "#Null값 상위 5개 출력\n",
    "train_data.loc[train_data.document.isnull()][:5]"
   ]
  },
  {
   "cell_type": "code",
   "execution_count": 42,
   "metadata": {
    "colab": {
     "base_uri": "https://localhost:8080/"
    },
    "id": "f-4Z3c2hMrhg",
    "outputId": "683f5501-b113-4518-b9c1-e572f0c4a873"
   },
   "outputs": [
    {
     "name": "stdout",
     "output_type": "stream",
     "text": [
      "145393\n"
     ]
    }
   ],
   "source": [
    "#Null값 제거\n",
    "train_data = train_data.dropna(how = 'any')\n",
    "print(len(train_data))"
   ]
  },
  {
   "cell_type": "code",
   "execution_count": 43,
   "metadata": {
    "colab": {
     "base_uri": "https://localhost:8080/"
    },
    "id": "GMfxTmNqM0so",
    "outputId": "2dd3f9dc-1458-4ceb-f904-d26411e17ae2"
   },
   "outputs": [
    {
     "name": "stdout",
     "output_type": "stream",
     "text": [
      "전처리 후 테스트용 샘플의 개수 : 48852\n"
     ]
    },
    {
     "name": "stderr",
     "output_type": "stream",
     "text": [
      "/tmp/ipykernel_2468/1404236827.py:3: FutureWarning: The default value of regex will change from True to False in a future version.\n",
      "  test_data['document'] = test_data['document'].str.replace(\"[^ㄱ-ㅎㅏ-ㅣ가-힣 ]\",\"\") # 정규 표현식 수행\n",
      "/tmp/ipykernel_2468/1404236827.py:4: FutureWarning: The default value of regex will change from True to False in a future version.\n",
      "  test_data['document'] = test_data['document'].str.replace('^ +', \"\") # 공백은 empty 값으로 변경\n"
     ]
    }
   ],
   "source": [
    "#테스트 데이터도 똑같이 전처리\n",
    "test_data.drop_duplicates(subset = ['document'], inplace=True) # document 열에서 중복인 내용이 있다면 중복 제거\n",
    "test_data['document'] = test_data['document'].str.replace(\"[^ㄱ-ㅎㅏ-ㅣ가-힣 ]\",\"\") # 정규 표현식 수행\n",
    "test_data['document'] = test_data['document'].str.replace('^ +', \"\") # 공백은 empty 값으로 변경\n",
    "test_data['document'].replace('', np.nan, inplace=True) # 공백은 Null 값으로 변경\n",
    "test_data = test_data.dropna(how='any') # Null 값 제거\n",
    "print('전처리 후 테스트용 샘플의 개수 :',len(test_data))"
   ]
  },
  {
   "cell_type": "markdown",
   "metadata": {
    "id": "IaRrd6XzPjhN"
   },
   "source": [
    "**2-3. spm을 통한 토큰화**\n",
    "\n"
   ]
  },
  {
   "cell_type": "code",
   "execution_count": 44,
   "metadata": {
    "colab": {
     "base_uri": "https://localhost:8080/"
    },
    "id": "tn-UUlgSRCu9",
    "outputId": "7da0d01a-5ca4-45ba-e23a-af50fa8f257c"
   },
   "outputs": [
    {
     "name": "stdout",
     "output_type": "stream",
     "text": [
      "Requirement already satisfied: sentencepiece in /opt/conda/lib/python3.9/site-packages (0.1.96)\n",
      "\u001b[33mWARNING: Running pip as the 'root' user can result in broken permissions and conflicting behaviour with the system package manager. It is recommended to use a virtual environment instead: https://pip.pypa.io/warnings/venv\u001b[0m\n"
     ]
    }
   ],
   "source": [
    "!pip install sentencepiece"
   ]
  },
  {
   "cell_type": "code",
   "execution_count": 45,
   "metadata": {
    "colab": {
     "base_uri": "https://localhost:8080/"
    },
    "id": "x1rlPVy5V0O-",
    "outputId": "6406f05d-d2c4-463d-8e3d-5872a0eb7a6b"
   },
   "outputs": [
    {
     "data": {
      "text/plain": [
       "0                                         아 더빙 진짜 짜증나네요 목소리\n",
       "1                                흠포스터보고 초딩영화줄오버연기조차 가볍지 않구나\n",
       "2                                         너무재밓었다그래서보는것을추천한다\n",
       "3                                 교도소 이야기구먼 솔직히 재미는 없다평점 조정\n",
       "4         사이몬페그의 익살스런 연기가 돋보였던 영화스파이더맨에서 늙어보이기만 했던 커스틴 던...\n",
       "                                ...                        \n",
       "194240            오랜만에 평점 로긴했네ㅋㅋ 킹왕짱 쌈뽕한 영화를 만났습니다 강렬하게 육쾌함\n",
       "194241             의지 박약들이나 하는거다 탈영은 일단 주인공 김대희 닮았고 이등병 찐따 \n",
       "194242                      그림도 좋고 완성도도 높았지만 보는 내내 불안하게 만든다\n",
       "194243           절대 봐서는 안 될 영화 재미도 없고 기분만 잡치고 한 세트장에서 다 해먹네\n",
       "194244                                           마무리는 또 왜이래\n",
       "Name: document, Length: 194245, dtype: object"
      ]
     },
     "execution_count": 45,
     "metadata": {},
     "output_type": "execute_result"
    }
   ],
   "source": [
    "\n",
    "all_data = pd.concat([train_data, test_data], ignore_index=True, axis=0)\n",
    "\n",
    "#all_data의 document 열을 sentence에 할당\n",
    "sentence = all_data['document']\n",
    "\n",
    "sentence"
   ]
  },
  {
   "cell_type": "code",
   "execution_count": 46,
   "metadata": {
    "colab": {
     "base_uri": "https://localhost:8080/",
     "height": 485
    },
    "id": "_rHZd-mrPnBi",
    "outputId": "fdcd19c2-8138-468d-85dd-3807e1ec176e"
   },
   "outputs": [
    {
     "name": "stdout",
     "output_type": "stream",
     "text": [
      "Min length :  1\n",
      "Max length :  140\n",
      "Average length :  33\n"
     ]
    },
    {
     "data": {
      "image/png": "[encoded data removed]",
      "text/plain": [
       "<Figure size 432x288 with 1 Axes>"
      ]
     },
     "metadata": {
      "needs_background": "light"
     },
     "output_type": "display_data"
    }
   ],
   "source": [
    "import matplotlib.pyplot as plt\n",
    "\n",
    "min_len = 999\n",
    "max_len = 0\n",
    "sum_len = 0\n",
    "\n",
    "for s in sentence:\n",
    "  if len(s) < min_len :\n",
    "    min_len = len(s)\n",
    "  if len(s) > max_len :\n",
    "    max_len = len(s)\n",
    "  sum_len += len(s)\n",
    "\n",
    "print('Min length : ', min_len)\n",
    "print('Max length : ', max_len)\n",
    "print('Average length : ', sum_len // len(sentence))\n",
    "\n",
    "sen_length_cnt = [0] * max_len\n",
    "for sen in sentence:\n",
    "  sen_length_cnt[len(sen)-1] += 1\n",
    "\n",
    "plt.bar(range(max_len), sen_length_cnt, width=1.0)\n",
    "plt.show()"
   ]
  },
  {
   "cell_type": "code",
   "execution_count": 48,
   "metadata": {
    "colab": {
     "base_uri": "https://localhost:8080/",
     "height": 507
    },
    "id": "qxldlkO-RejX",
    "outputId": "d0050c70-e0e3-4fea-e719-3236cee6b877"
   },
   "outputs": [
    {
     "name": "stdout",
     "output_type": "stream",
     "text": [
      "문장의 최단 길이: 1\n",
      "문장의 최장 길이: 140\n",
      "문장의 평균 길이: 33\n"
     ]
    },
    {
     "data": {
      "image/png": "[encoded data removed]",
      "text/plain": [
       "<Figure size 432x288 with 1 Axes>"
      ]
     },
     "metadata": {
      "needs_background": "light"
     },
     "output_type": "display_data"
    }
   ],
   "source": [
    "#문장 길이 확인.\n",
    "\n",
    "import numpy as np\n",
    "import matplotlib.pyplot as plt\n",
    "\n",
    "min_len = 999\n",
    "max_len = 0\n",
    "sum_len = 0\n",
    "\n",
    "for sen in sentence:  #'raw'리스트에 있는 각 문장('sen')에 대해 반복문을 실행\n",
    "    length = len(sen)  #현재 문장'sen'의 길이를 구해서 'length'변수에 할당\n",
    "    if min_len > length: min_len = length  #현재 문장의 길이가 ' min_len'변수에 저장된 최소 길이보다 작다면, 'min_len'변수에 현재 길이를 저장.\n",
    "    if max_len < length: max_len = length\n",
    "    sum_len += length  #현재 문장의 길이를 'sum_len'변수에 더함. 'sum_len'변수는 전체 길이의 합을 나타내며, 문장 길이의 총합을 계산\n",
    "#'raw'리스트에 잇는 모든 문장을 반복하면서 각 문장의 길이를 계산하고, 최소 길이와 최대 길이를 업데이트하며 전체 길이의 합을 계산.\n",
    "\n",
    "\n",
    "print(\"문장의 최단 길이:\", min_len)\n",
    "print(\"문장의 최장 길이:\", max_len)\n",
    "print(\"문장의 평균 길이:\", sum_len // len(sentence))\n",
    "\n",
    "sentence_length = np.zeros((max_len), dtype=int)  #길이가 'max_len'이고 0으로 초기화된 Numpy 배열\n",
    "                                                  #sentence_length 배열의 dtype = 정수\n",
    "\n",
    "for sen in sentence:  #'raw'리스트에 있는 각 문장('sen')에 대해 반복문을 실행\n",
    "    sentence_length[len(sen)-1] += 1  #'len(sen)-1': 현재 문장의 길이에서 1을 뺀 값 = 문장 길이를 배열 인덱스에 맞게 변환\n",
    "                                      #길이가 1인 문장은 배열의 첫 번째 요소에 저장. 길이가 2인 문장은 두 번째 요소에 저장.\n",
    "                                      #계산된 인덱스 위치에 해당하는 'sentence_length'배열의 값을 1 증가. 이를 통해 해당 길이의 문장이 등장한 빈도를 저장.\n",
    "\n",
    "plt.bar(range(max_len), sentence_length, width=1.0)\n",
    "plt.title(\"Sentence Length Distribution\")\n",
    "plt.show()"
   ]
  },
  {
   "cell_type": "code",
   "execution_count": 49,
   "metadata": {
    "colab": {
     "base_uri": "https://localhost:8080/"
    },
    "id": "KSpDUJy6Rq7W",
    "outputId": "8ae10a5e-bc81-4ad4-c9ab-b2caa015d07c"
   },
   "outputs": [
    {
     "name": "stdout",
     "output_type": "stream",
     "text": [
      "174042\n",
      "174042\n"
     ]
    }
   ],
   "source": [
    "max_len = 150\n",
    "min_len = 10\n",
    "\n",
    "filtered_sen = []\n",
    "filtered_target = []\n",
    "\n",
    "target = np.array(all_data['label'])\n",
    "\n",
    "for s, t in zip(sentence, target):\n",
    "  if (len(str(s)) < max_len) and (len(str(s)) >= min_len) :\n",
    "    filtered_sen.append(s)\n",
    "    filtered_target.append(t)\n",
    "\n",
    "print(len(filtered_sen))\n",
    "print(len(filtered_target))"
   ]
  },
  {
   "cell_type": "code",
   "execution_count": 54,
   "metadata": {
    "colab": {
     "base_uri": "https://localhost:8080/"
    },
    "id": "Ui__RVbkSFyc",
    "outputId": "a7508a75-e59c-4ea3-b305-7f2f47a463f4"
   },
   "outputs": [
    {
     "name": "stderr",
     "output_type": "stream",
     "text": [
      "sentencepiece_trainer.cc(177) LOG(INFO) Running command: --input=/aiffel/aiffel/sp_tokenizer/naver_MovieReview/ratings_test.txt.temp --model_prefix=ratings_train --vocab_size=150000\n",
      "sentencepiece_trainer.cc(77) LOG(INFO) Starts training with : \n",
      "trainer_spec {\n",
      "  input: /aiffel/aiffel/sp_tokenizer/naver_MovieReview/ratings_test.txt.temp\n",
      "  input_format: \n",
      "  model_prefix: ratings_train\n",
      "  model_type: UNIGRAM\n",
      "  vocab_size: 150000\n",
      "  self_test_sample_size: 0\n",
      "  character_coverage: 0.9995\n",
      "  input_sentence_size: 0\n",
      "  shuffle_input_sentence: 1\n",
      "  seed_sentencepiece_size: 1000000\n",
      "  shrinking_factor: 0.75\n",
      "  max_sentence_length: 4192\n",
      "  num_threads: 16\n",
      "  num_sub_iterations: 2\n",
      "  max_sentencepiece_length: 16\n",
      "  split_by_unicode_script: 1\n",
      "  split_by_number: 1\n",
      "  split_by_whitespace: 1\n",
      "  split_digits: 0\n",
      "  treat_whitespace_as_suffix: 0\n",
      "  allow_whitespace_only_pieces: 0\n",
      "  required_chars: \n",
      "  byte_fallback: 0\n",
      "  vocabulary_output_piece_score: 1\n",
      "  train_extremely_large_corpus: 0\n",
      "  hard_vocab_limit: 1\n",
      "  use_all_vocab: 0\n",
      "  unk_id: 0\n",
      "  bos_id: 1\n",
      "  eos_id: 2\n",
      "  pad_id: -1\n",
      "  unk_piece: <unk>\n",
      "  bos_piece: <s>\n",
      "  eos_piece: </s>\n",
      "  pad_piece: <pad>\n",
      "  unk_surface:  ⁇ \n",
      "}\n",
      "normalizer_spec {\n",
      "  name: nmt_nfkc\n",
      "  add_dummy_prefix: 1\n",
      "  remove_extra_whitespaces: 1\n",
      "  escape_whitespaces: 1\n",
      "  normalization_rule_tsv: \n",
      "}\n",
      "denormalizer_spec {}\n",
      "trainer_interface.cc(329) LOG(INFO) SentenceIterator is not specified. Using MultiFileSentenceIterator.\n",
      "trainer_interface.cc(178) LOG(INFO) Loading corpus: /aiffel/aiffel/sp_tokenizer/naver_MovieReview/ratings_test.txt.temp\n",
      "trainer_interface.cc(385) LOG(INFO) Loaded all 174042 sentences\n",
      "trainer_interface.cc(400) LOG(INFO) Adding meta_piece: <unk>\n",
      "trainer_interface.cc(400) LOG(INFO) Adding meta_piece: <s>\n",
      "trainer_interface.cc(400) LOG(INFO) Adding meta_piece: </s>\n",
      "trainer_interface.cc(405) LOG(INFO) Normalizing sentences...\n",
      "trainer_interface.cc(466) LOG(INFO) all chars count=6457470\n",
      "trainer_interface.cc(477) LOG(INFO) Done: 99.9501% characters are covered.\n",
      "trainer_interface.cc(487) LOG(INFO) Alphabet size=1542\n",
      "trainer_interface.cc(488) LOG(INFO) Final character coverage=0.999501\n",
      "trainer_interface.cc(520) LOG(INFO) Done! preprocessed 174042 sentences.\n",
      "unigram_model_trainer.cc(139) LOG(INFO) Making suffix array...\n",
      "unigram_model_trainer.cc(143) LOG(INFO) Extracting frequent sub strings...\n",
      "unigram_model_trainer.cc(194) LOG(INFO) Initialized 392731 seed sentencepieces\n",
      "trainer_interface.cc(526) LOG(INFO) Tokenizing input sentences with whitespace: 174042\n",
      "trainer_interface.cc(537) LOG(INFO) Done! 367727\n",
      "unigram_model_trainer.cc(489) LOG(INFO) Using 367727 sentences for EM training\n",
      "unigram_model_trainer.cc(505) LOG(INFO) EM sub_iter=0 size=187042 obj=13.9398 num_tokens=767315 num_tokens/piece=4.10237\n",
      "unigram_model_trainer.cc(505) LOG(INFO) EM sub_iter=1 size=171816 obj=13.009 num_tokens=770924 num_tokens/piece=4.48692\n",
      "unigram_model_trainer.cc(505) LOG(INFO) EM sub_iter=0 size=164642 obj=12.9678 num_tokens=772523 num_tokens/piece=4.69214\n",
      "unigram_model_trainer.cc(505) LOG(INFO) EM sub_iter=1 size=163452 obj=12.9557 num_tokens=773689 num_tokens/piece=4.73343\n",
      "trainer_interface.cc(615) LOG(INFO) Saving model: ratings_train.model\n",
      "trainer_interface.cc(626) LOG(INFO) Saving vocabs: ratings_train.vocab\n"
     ]
    },
    {
     "name": "stdout",
     "output_type": "stream",
     "text": [
      "-rw-r--r-- 1 root root  3415875 Aug 16 06:03 ratings_train.model\r\n",
      "-rw-r--r-- 1 root root 14628807 Aug 16 05:52 ratings_train.txt\r\n",
      "-rw-r--r-- 1 root root  3308588 Aug 16 06:03 ratings_train.vocab\r\n"
     ]
    }
   ],
   "source": [
    "import sentencepiece as spm\n",
    "temp_file_path = os.getenv('HOME')+'/aiffel/sp_tokenizer/naver_MovieReview/ratings_test.txt.temp'\n",
    "\n",
    "vocab_size = 150000\n",
    "\n",
    "with open(temp_file_path, 'w') as f:\n",
    "  for row in filtered_sen:\n",
    "    f.write(str(row) + '\\n')\n",
    "\n",
    "spm.SentencePieceTrainer.Train(  #sentencepiece를 사용하여 토크나이저를 훈련\n",
    "    '--input={} --model_prefix=ratings_train --vocab_size={}'.format(temp_file_path, vocab_size)\n",
    ")\n",
    "\n",
    "!ls -l ratings_train*"
   ]
  },
  {
   "cell_type": "code",
   "execution_count": 55,
   "metadata": {
    "colab": {
     "base_uri": "https://localhost:8080/"
    },
    "id": "n9eG_o6KUII-",
    "outputId": "ebb123f6-a0be-4e9f-b040-b2d4f0ee201c"
   },
   "outputs": [
    {
     "name": "stdout",
     "output_type": "stream",
     "text": [
      "[15559, 32299, 25609, 32674, 0]\n",
      "['▁어머니가', '방에', '들어가', '신다', '.']\n",
      "어머니가방에들어가신다 ⁇ \n"
     ]
    }
   ],
   "source": [
    "s = spm.SentencePieceProcessor()\n",
    "s.Load('ratings_train.model')\n",
    "\n",
    "# SentencePiece를 활용한 sentence -> encoding\n",
    "tokensIDs = s.EncodeAsIds('어머니가방에들어가신다.')\n",
    "print(tokensIDs)\n",
    "\n",
    "# SentencePiece를 활용한 sentence -> encoded pieces\n",
    "print(s.SampleEncodeAsPieces('어머니가방에들어가신다.',2, 0.1))\n",
    "\n",
    "# SentencePiece를 활용한 encoding -> sentence 복원\n",
    "print(s.DecodeIds(tokensIDs))"
   ]
  },
  {
   "cell_type": "code",
   "execution_count": 56,
   "metadata": {
    "id": "fDUCp04pYiu9"
   },
   "outputs": [],
   "source": [
    "def sp_tokenize(s, corpus):\n",
    "\n",
    "    tensor = []\n",
    "\n",
    "    for sen in corpus:\n",
    "        tensor.append(s.EncodeAsIds(sen))\n",
    "\n",
    "    with open(\"./ratings_train.vocab\", 'r') as f:\n",
    "        vocab = f.readlines()\n",
    "\n",
    "    word_index = {}\n",
    "    index_word = {}\n",
    "\n",
    "    for idx, line in enumerate(vocab):\n",
    "        word = line.split(\"\\t\")[0]\n",
    "\n",
    "        word_index.update({word:idx})\n",
    "        index_word.update({idx:word})\n",
    "\n",
    "    tensor = tf.keras.preprocessing.sequence.pad_sequences(tensor, padding='post')\n",
    "\n",
    "    return tensor, word_index, index_word\n",
    "\n",
    "tensor, word_index, index_word = sp_tokenize(s, filtered_sen)"
   ]
  },
  {
   "cell_type": "markdown",
   "metadata": {
    "id": "4_Met_W8ZPdF"
   },
   "source": [
    "##3.모델 구현 및 훈련"
   ]
  },
  {
   "cell_type": "code",
   "execution_count": 57,
   "metadata": {
    "id": "5_UJfCPKZObQ"
   },
   "outputs": [],
   "source": [
    "# 데이터 나누기\n",
    "from sklearn.model_selection import train_test_split\n",
    "\n",
    "x_train, x_val, y_train, y_val = train_test_split(tensor, filtered_target, test_size=0.2)\n",
    "y_train = np.array(y_train)\n",
    "y_val = np.array(y_val)"
   ]
  },
  {
   "cell_type": "code",
   "execution_count": 58,
   "metadata": {
    "colab": {
     "base_uri": "https://localhost:8080/"
    },
    "id": "G9qgo6Bcyrud",
    "outputId": "c4aac361-0739-4210-b00e-a2bbc3db8c63"
   },
   "outputs": [
    {
     "name": "stdout",
     "output_type": "stream",
     "text": [
      "Model: \"sequential\"\n",
      "_________________________________________________________________\n",
      "Layer (type)                 Output Shape              Param #   \n",
      "=================================================================\n",
      "embedding (Embedding)        (None, None, 200)         30000000  \n",
      "_________________________________________________________________\n",
      "lstm (LSTM)                  (None, 128)               168448    \n",
      "_________________________________________________________________\n",
      "dense (Dense)                (None, 32)                4128      \n",
      "_________________________________________________________________\n",
      "dense_1 (Dense)              (None, 1)                 33        \n",
      "=================================================================\n",
      "Total params: 30,172,609\n",
      "Trainable params: 30,172,609\n",
      "Non-trainable params: 0\n",
      "_________________________________________________________________\n"
     ]
    }
   ],
   "source": [
    "# RNN 모델 설계\n",
    "import tensorflow as tf\n",
    "\n",
    "vocab_size = vocab_size\n",
    "word_vector_dim = 200\n",
    "\n",
    "model_rnn = tf.keras.Sequential()\n",
    "model_rnn.add(tf.keras.layers.Embedding(vocab_size, word_vector_dim, input_shape=(None,)))\n",
    "model_rnn.add(tf.keras.layers.LSTM(128))\n",
    "model_rnn.add(tf.keras.layers.Dense(32, activation='relu'))\n",
    "model_rnn.add(tf.keras.layers.Dense(1, activation='sigmoid'))\n",
    "\n",
    "model_rnn.summary()"
   ]
  },
  {
   "cell_type": "code",
   "execution_count": 59,
   "metadata": {
    "colab": {
     "base_uri": "https://localhost:8080/",
     "height": 463
    },
    "id": "pJfw6gZGy1gb",
    "outputId": "a3aad4bc-ce66-42d6-bbc2-7b7947d53c9b"
   },
   "outputs": [
    {
     "name": "stdout",
     "output_type": "stream",
     "text": [
      "Epoch 1/20\n",
      "1088/1088 [==============================] - 54s 23ms/step - loss: 0.6933 - accuracy: 0.4982 - val_loss: 0.6932 - val_accuracy: 0.5005\n",
      "Epoch 2/20\n",
      "1088/1088 [==============================] - 25s 23ms/step - loss: 0.6932 - accuracy: 0.4985 - val_loss: 0.6932 - val_accuracy: 0.4995\n",
      "Epoch 3/20\n",
      "1088/1088 [==============================] - 25s 23ms/step - loss: 0.6932 - accuracy: 0.4986 - val_loss: 0.6932 - val_accuracy: 0.5005\n",
      "Epoch 4/20\n",
      "1088/1088 [==============================] - 25s 23ms/step - loss: 0.6932 - accuracy: 0.5007 - val_loss: 0.6931 - val_accuracy: 0.5005\n",
      "Epoch 5/20\n",
      "1088/1088 [==============================] - 25s 23ms/step - loss: 0.6932 - accuracy: 0.5002 - val_loss: 0.6932 - val_accuracy: 0.4995\n",
      "Epoch 6/20\n",
      "1088/1088 [==============================] - 25s 23ms/step - loss: 0.6932 - accuracy: 0.4988 - val_loss: 0.6931 - val_accuracy: 0.5005\n",
      "Epoch 7/20\n",
      "1088/1088 [==============================] - 25s 23ms/step - loss: 0.6932 - accuracy: 0.4991 - val_loss: 0.6932 - val_accuracy: 0.4995\n",
      "Epoch 8/20\n",
      "1088/1088 [==============================] - 25s 23ms/step - loss: 0.6932 - accuracy: 0.5000 - val_loss: 0.6932 - val_accuracy: 0.5005\n",
      "Epoch 9/20\n",
      "1088/1088 [==============================] - 25s 23ms/step - loss: 0.6933 - accuracy: 0.4955 - val_loss: 0.6931 - val_accuracy: 0.4998\n",
      "Epoch 10/20\n",
      "1088/1088 [==============================] - 25s 23ms/step - loss: 0.6931 - accuracy: 0.5051 - val_loss: 0.6932 - val_accuracy: 0.5005\n",
      "Epoch 11/20\n",
      "1088/1088 [==============================] - 25s 23ms/step - loss: 0.6932 - accuracy: 0.5008 - val_loss: 0.6932 - val_accuracy: 0.5005\n",
      "Epoch 12/20\n",
      "1088/1088 [==============================] - 25s 23ms/step - loss: 0.6932 - accuracy: 0.5005 - val_loss: 0.6934 - val_accuracy: 0.4995\n",
      "Epoch 13/20\n",
      "1088/1088 [==============================] - 25s 23ms/step - loss: 0.6932 - accuracy: 0.4987 - val_loss: 0.6932 - val_accuracy: 0.4995\n",
      "Epoch 14/20\n",
      "1088/1088 [==============================] - 25s 23ms/step - loss: 0.6932 - accuracy: 0.4986 - val_loss: 0.6932 - val_accuracy: 0.4995\n",
      "Epoch 15/20\n",
      "1088/1088 [==============================] - 25s 23ms/step - loss: 0.6932 - accuracy: 0.4994 - val_loss: 0.6931 - val_accuracy: 0.5005\n",
      "Epoch 16/20\n",
      "1088/1088 [==============================] - 25s 23ms/step - loss: 0.6932 - accuracy: 0.5010 - val_loss: 0.6932 - val_accuracy: 0.4995\n",
      "Epoch 17/20\n",
      "1088/1088 [==============================] - 25s 23ms/step - loss: 0.6932 - accuracy: 0.4980 - val_loss: 0.6931 - val_accuracy: 0.5005\n",
      "Epoch 18/20\n",
      "1088/1088 [==============================] - 25s 23ms/step - loss: 0.6932 - accuracy: 0.5019 - val_loss: 0.6932 - val_accuracy: 0.4995\n",
      "Epoch 19/20\n",
      "1088/1088 [==============================] - 25s 23ms/step - loss: 0.6932 - accuracy: 0.4998 - val_loss: 0.6932 - val_accuracy: 0.5005\n",
      "Epoch 20/20\n",
      "1088/1088 [==============================] - 25s 23ms/step - loss: 0.6932 - accuracy: 0.4990 - val_loss: 0.6932 - val_accuracy: 0.4995\n"
     ]
    }
   ],
   "source": [
    "# 모델 훈련\n",
    "model_rnn.compile(optimizer='adam',\n",
    "                   loss='binary_crossentropy',\n",
    "                   metrics=['accuracy'])\n",
    "\n",
    "epochs = 20\n",
    "\n",
    "history_lstm = model_rnn.fit(x_train,\n",
    "                              y_train,\n",
    "                              epochs=epochs,\n",
    "                              batch_size=128,\n",
    "                              validation_data=(x_val, y_val),\n",
    "                              verbose=1)"
   ]
  },
  {
   "cell_type": "markdown",
   "metadata": {
    "id": "5VJzMV-u1FGW"
   },
   "source": [
    "##4.평가하기\n"
   ]
  },
  {
   "cell_type": "markdown",
   "metadata": {
    "id": "zZ_VZLoq3c-u"
   },
   "source": [
    "##5.데이터 전처리-mecab"
   ]
  },
  {
   "cell_type": "code",
   "execution_count": null,
   "metadata": {
    "id": "FWssP9wS3hyj"
   },
   "outputs": [],
   "source": [
    "!pip install python-mecab-ko\n",
    "from mecab import MeCab\n",
    "mecab = MeCab()"
   ]
  },
  {
   "cell_type": "code",
   "execution_count": null,
   "metadata": {
    "id": "2mokTBs83yOm"
   },
   "outputs": [],
   "source": []
  }
 ],
 "metadata": {
  "colab": {
   "provenance": []
  },
  "kernelspec": {
   "display_name": "Python 3 (ipykernel)",
   "language": "python",
   "name": "python3"
  },
  "language_info": {
   "codemirror_mode": {
    "name": "ipython",
    "version": 3
   },
   "file_extension": ".py",
   "mimetype": "text/x-python",
   "name": "python",
   "nbconvert_exporter": "python",
   "pygments_lexer": "ipython3",
   "version": "3.9.7"
  }
 },
 "nbformat": 4,
 "nbformat_minor": 1
}
